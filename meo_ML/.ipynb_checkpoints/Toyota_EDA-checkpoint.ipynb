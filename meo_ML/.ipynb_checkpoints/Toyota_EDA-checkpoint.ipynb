{
 "cells": [
  {
   "cell_type": "markdown",
   "metadata": {},
   "source": [
    "![Meo_logo](./meologo.png)"
   ]
  },
  {
   "cell_type": "markdown",
   "metadata": {},
   "source": [
    "# Meo ML Price\n",
    "### Exploratory Data Analysis - Toyota Car Price"
   ]
  },
  {
   "cell_type": "markdown",
   "metadata": {},
   "source": [
    "<hr/>"
   ]
  },
  {
   "cell_type": "markdown",
   "metadata": {},
   "source": [
    "#### 1. Import all packages needed."
   ]
  },
  {
   "cell_type": "code",
   "execution_count": 3,
   "metadata": {},
   "outputs": [],
   "source": [
    "# import packages\n",
    "import pandas as pd\n",
    "import numpy as np\n",
    "import matplotlib.pyplot as plt\n",
    "import seaborn as sb\n",
    "from sklearn.model_selection import train_test_split\n",
    "from sklearn import linear_model"
   ]
  },
  {
   "cell_type": "markdown",
   "metadata": {},
   "source": [
    "<hr/>"
   ]
  },
  {
   "cell_type": "markdown",
   "metadata": {},
   "source": [
    "#### 2. Read CSV file"
   ]
  },
  {
   "cell_type": "code",
   "execution_count": 5,
   "metadata": {},
   "outputs": [
    {
     "data": {
      "text/html": [
       "<div>\n",
       "<style scoped>\n",
       "    .dataframe tbody tr th:only-of-type {\n",
       "        vertical-align: middle;\n",
       "    }\n",
       "\n",
       "    .dataframe tbody tr th {\n",
       "        vertical-align: top;\n",
       "    }\n",
       "\n",
       "    .dataframe thead th {\n",
       "        text-align: right;\n",
       "    }\n",
       "</style>\n",
       "<table border=\"1\" class=\"dataframe\">\n",
       "  <thead>\n",
       "    <tr style=\"text-align: right;\">\n",
       "      <th></th>\n",
       "      <th>nama</th>\n",
       "      <th>km</th>\n",
       "      <th>bbm</th>\n",
       "      <th>transmisi</th>\n",
       "      <th>tahun</th>\n",
       "      <th>harga</th>\n",
       "    </tr>\n",
       "  </thead>\n",
       "  <tbody>\n",
       "    <tr>\n",
       "      <th>0</th>\n",
       "      <td>Kijang Innova</td>\n",
       "      <td>90</td>\n",
       "      <td>diesel</td>\n",
       "      <td>otomatis</td>\n",
       "      <td>2011</td>\n",
       "      <td>171</td>\n",
       "    </tr>\n",
       "    <tr>\n",
       "      <th>1</th>\n",
       "      <td>Kijang Innova</td>\n",
       "      <td>10</td>\n",
       "      <td>bensin</td>\n",
       "      <td>otomatis</td>\n",
       "      <td>2018</td>\n",
       "      <td>268</td>\n",
       "    </tr>\n",
       "    <tr>\n",
       "      <th>2</th>\n",
       "      <td>Kijang Innova</td>\n",
       "      <td>60</td>\n",
       "      <td>bensin</td>\n",
       "      <td>manual</td>\n",
       "      <td>2014</td>\n",
       "      <td>172</td>\n",
       "    </tr>\n",
       "    <tr>\n",
       "      <th>3</th>\n",
       "      <td>Kijang Innova</td>\n",
       "      <td>90</td>\n",
       "      <td>bensin</td>\n",
       "      <td>manual</td>\n",
       "      <td>2012</td>\n",
       "      <td>137</td>\n",
       "    </tr>\n",
       "    <tr>\n",
       "      <th>4</th>\n",
       "      <td>Kijang Innova</td>\n",
       "      <td>45</td>\n",
       "      <td>diesel</td>\n",
       "      <td>manual</td>\n",
       "      <td>2012</td>\n",
       "      <td>205</td>\n",
       "    </tr>\n",
       "  </tbody>\n",
       "</table>\n",
       "</div>"
      ],
      "text/plain": [
       "            nama  km     bbm transmisi  tahun  harga\n",
       "0  Kijang Innova  90  diesel  otomatis   2011    171\n",
       "1  Kijang Innova  10  bensin  otomatis   2018    268\n",
       "2  Kijang Innova  60  bensin    manual   2014    172\n",
       "3  Kijang Innova  90  bensin    manual   2012    137\n",
       "4  Kijang Innova  45  diesel    manual   2012    205"
      ]
     },
     "execution_count": 5,
     "metadata": {},
     "output_type": "execute_result"
    }
   ],
   "source": [
    "# read csv file\n",
    "dfToyota = pd.read_csv('toyota.csv')\n",
    "dfToyota.head()"
   ]
  },
  {
   "cell_type": "markdown",
   "metadata": {},
   "source": [
    "<hr/>"
   ]
  },
  {
   "cell_type": "markdown",
   "metadata": {},
   "source": [
    "#### 3. Create dummy variables for features: nama, bbm & transmisi"
   ]
  },
  {
   "cell_type": "code",
   "execution_count": 7,
   "metadata": {},
   "outputs": [
    {
     "data": {
      "text/plain": [
       "['nama_Alphard',\n",
       " 'nama_Avanza',\n",
       " 'nama_Calya',\n",
       " 'nama_Kijang Innova',\n",
       " 'nama_Sienta',\n",
       " 'nama_Vellfire',\n",
       " 'nama_Veloz',\n",
       " 'nama_Venturer',\n",
       " 'nama_Voxy',\n",
       " 'bbm_bensin',\n",
       " 'bbm_diesel',\n",
       " 'transmisi_manual',\n",
       " 'transmisi_otomatis']"
      ]
     },
     "execution_count": 7,
     "metadata": {},
     "output_type": "execute_result"
    }
   ],
   "source": [
    "dfDummies = pd.get_dummies(dfToyota[['nama', 'bbm', 'transmisi']])\n",
    "list(dfDummies.columns.values)"
   ]
  },
  {
   "cell_type": "markdown",
   "metadata": {},
   "source": [
    "<hr/>"
   ]
  },
  {
   "cell_type": "markdown",
   "metadata": {},
   "source": [
    "#### 4. Merge dfToyota & dfDummies, separate its X feature & Y target"
   ]
  },
  {
   "cell_type": "code",
   "execution_count": 11,
   "metadata": {},
   "outputs": [],
   "source": [
    "dfToyota = pd.concat([dfToyota, dfDummies], axis='columns')\n",
    "dfToyota = dfToyota.drop(['nama', 'bbm', 'transmisi'], axis='columns')\n",
    "\n",
    "dfToyotaX = dfToyota.drop(['harga'], axis='columns')\n",
    "dfToyotaY = dfToyota['harga']"
   ]
  },
  {
   "cell_type": "code",
   "execution_count": 12,
   "metadata": {},
   "outputs": [
    {
     "data": {
      "text/html": [
       "<div>\n",
       "<style scoped>\n",
       "    .dataframe tbody tr th:only-of-type {\n",
       "        vertical-align: middle;\n",
       "    }\n",
       "\n",
       "    .dataframe tbody tr th {\n",
       "        vertical-align: top;\n",
       "    }\n",
       "\n",
       "    .dataframe thead th {\n",
       "        text-align: right;\n",
       "    }\n",
       "</style>\n",
       "<table border=\"1\" class=\"dataframe\">\n",
       "  <thead>\n",
       "    <tr style=\"text-align: right;\">\n",
       "      <th></th>\n",
       "      <th>km</th>\n",
       "      <th>tahun</th>\n",
       "      <th>nama_Alphard</th>\n",
       "      <th>nama_Avanza</th>\n",
       "      <th>nama_Calya</th>\n",
       "      <th>nama_Kijang Innova</th>\n",
       "      <th>nama_Sienta</th>\n",
       "      <th>nama_Vellfire</th>\n",
       "      <th>nama_Veloz</th>\n",
       "      <th>nama_Venturer</th>\n",
       "      <th>nama_Voxy</th>\n",
       "      <th>bbm_bensin</th>\n",
       "      <th>bbm_diesel</th>\n",
       "      <th>transmisi_manual</th>\n",
       "      <th>transmisi_otomatis</th>\n",
       "    </tr>\n",
       "  </thead>\n",
       "  <tbody>\n",
       "    <tr>\n",
       "      <th>0</th>\n",
       "      <td>90</td>\n",
       "      <td>2011</td>\n",
       "      <td>0</td>\n",
       "      <td>0</td>\n",
       "      <td>0</td>\n",
       "      <td>1</td>\n",
       "      <td>0</td>\n",
       "      <td>0</td>\n",
       "      <td>0</td>\n",
       "      <td>0</td>\n",
       "      <td>0</td>\n",
       "      <td>0</td>\n",
       "      <td>1</td>\n",
       "      <td>0</td>\n",
       "      <td>1</td>\n",
       "    </tr>\n",
       "    <tr>\n",
       "      <th>1</th>\n",
       "      <td>10</td>\n",
       "      <td>2018</td>\n",
       "      <td>0</td>\n",
       "      <td>0</td>\n",
       "      <td>0</td>\n",
       "      <td>1</td>\n",
       "      <td>0</td>\n",
       "      <td>0</td>\n",
       "      <td>0</td>\n",
       "      <td>0</td>\n",
       "      <td>0</td>\n",
       "      <td>1</td>\n",
       "      <td>0</td>\n",
       "      <td>0</td>\n",
       "      <td>1</td>\n",
       "    </tr>\n",
       "    <tr>\n",
       "      <th>2</th>\n",
       "      <td>60</td>\n",
       "      <td>2014</td>\n",
       "      <td>0</td>\n",
       "      <td>0</td>\n",
       "      <td>0</td>\n",
       "      <td>1</td>\n",
       "      <td>0</td>\n",
       "      <td>0</td>\n",
       "      <td>0</td>\n",
       "      <td>0</td>\n",
       "      <td>0</td>\n",
       "      <td>1</td>\n",
       "      <td>0</td>\n",
       "      <td>1</td>\n",
       "      <td>0</td>\n",
       "    </tr>\n",
       "    <tr>\n",
       "      <th>3</th>\n",
       "      <td>90</td>\n",
       "      <td>2012</td>\n",
       "      <td>0</td>\n",
       "      <td>0</td>\n",
       "      <td>0</td>\n",
       "      <td>1</td>\n",
       "      <td>0</td>\n",
       "      <td>0</td>\n",
       "      <td>0</td>\n",
       "      <td>0</td>\n",
       "      <td>0</td>\n",
       "      <td>1</td>\n",
       "      <td>0</td>\n",
       "      <td>1</td>\n",
       "      <td>0</td>\n",
       "    </tr>\n",
       "    <tr>\n",
       "      <th>4</th>\n",
       "      <td>45</td>\n",
       "      <td>2012</td>\n",
       "      <td>0</td>\n",
       "      <td>0</td>\n",
       "      <td>0</td>\n",
       "      <td>1</td>\n",
       "      <td>0</td>\n",
       "      <td>0</td>\n",
       "      <td>0</td>\n",
       "      <td>0</td>\n",
       "      <td>0</td>\n",
       "      <td>0</td>\n",
       "      <td>1</td>\n",
       "      <td>1</td>\n",
       "      <td>0</td>\n",
       "    </tr>\n",
       "  </tbody>\n",
       "</table>\n",
       "</div>"
      ],
      "text/plain": [
       "   km  tahun  nama_Alphard  nama_Avanza  nama_Calya  nama_Kijang Innova  \\\n",
       "0  90   2011             0            0           0                   1   \n",
       "1  10   2018             0            0           0                   1   \n",
       "2  60   2014             0            0           0                   1   \n",
       "3  90   2012             0            0           0                   1   \n",
       "4  45   2012             0            0           0                   1   \n",
       "\n",
       "   nama_Sienta  nama_Vellfire  nama_Veloz  nama_Venturer  nama_Voxy  \\\n",
       "0            0              0           0              0          0   \n",
       "1            0              0           0              0          0   \n",
       "2            0              0           0              0          0   \n",
       "3            0              0           0              0          0   \n",
       "4            0              0           0              0          0   \n",
       "\n",
       "   bbm_bensin  bbm_diesel  transmisi_manual  transmisi_otomatis  \n",
       "0           0           1                 0                   1  \n",
       "1           1           0                 0                   1  \n",
       "2           1           0                 1                   0  \n",
       "3           1           0                 1                   0  \n",
       "4           0           1                 1                   0  "
      ]
     },
     "execution_count": 12,
     "metadata": {},
     "output_type": "execute_result"
    }
   ],
   "source": [
    "dfToyotaX.head()"
   ]
  },
  {
   "cell_type": "code",
   "execution_count": 14,
   "metadata": {},
   "outputs": [
    {
     "data": {
      "text/plain": [
       "0    171\n",
       "1    268\n",
       "2    172\n",
       "3    137\n",
       "4    205\n",
       "Name: harga, dtype: int64"
      ]
     },
     "execution_count": 14,
     "metadata": {},
     "output_type": "execute_result"
    }
   ],
   "source": [
    "dfToyotaY[:5]"
   ]
  },
  {
   "cell_type": "markdown",
   "metadata": {},
   "source": [
    "<hr/>"
   ]
  },
  {
   "cell_type": "markdown",
   "metadata": {},
   "source": [
    "#### 5. See its features correlation (target: harga)"
   ]
  },
  {
   "cell_type": "code",
   "execution_count": 15,
   "metadata": {},
   "outputs": [
    {
     "data": {
      "image/png": "[encoded data removed]",
      "text/plain": [
       "<Figure size 432x288 with 2 Axes>"
      ]
     },
     "metadata": {
      "needs_background": "light"
     },
     "output_type": "display_data"
    }
   ],
   "source": [
    "# plot correlation heatmap\n",
    "sb.heatmap(dfToyota.corr(), annot=True)\n",
    "plt.show()"
   ]
  },
  {
   "cell_type": "markdown",
   "metadata": {},
   "source": [
    "<hr/>"
   ]
  },
  {
   "cell_type": "markdown",
   "metadata": {},
   "source": [
    "#### 6. Splitting dataset: 10% testing & 90% training"
   ]
  },
  {
   "cell_type": "code",
   "execution_count": 18,
   "metadata": {},
   "outputs": [
    {
     "data": {
      "text/plain": [
       "['km',\n",
       " 'tahun',\n",
       " 'nama_Alphard',\n",
       " 'nama_Avanza',\n",
       " 'nama_Calya',\n",
       " 'nama_Kijang Innova',\n",
       " 'nama_Sienta',\n",
       " 'nama_Vellfire',\n",
       " 'nama_Veloz',\n",
       " 'nama_Venturer',\n",
       " 'nama_Voxy',\n",
       " 'bbm_bensin',\n",
       " 'bbm_diesel',\n",
       " 'transmisi_manual',\n",
       " 'transmisi_otomatis']"
      ]
     },
     "execution_count": 18,
     "metadata": {},
     "output_type": "execute_result"
    }
   ],
   "source": [
    "# train test split | test = 10% & training = 90%\n",
    "x_train, x_test, y_train, y_test = train_test_split(dfToyotaX, dfToyotaY, test_size=.1)\n",
    "list(x_train.columns.values)"
   ]
  },
  {
   "cell_type": "markdown",
   "metadata": {},
   "source": [
    "<hr/>"
   ]
  },
  {
   "cell_type": "markdown",
   "metadata": {},
   "source": [
    "#### 7. Multivariate Linear Regression"
   ]
  },
  {
   "cell_type": "code",
   "execution_count": 19,
   "metadata": {},
   "outputs": [
    {
     "data": {
      "text/plain": [
       "LinearRegression(copy_X=True, fit_intercept=True, n_jobs=None,\n",
       "         normalize=False)"
      ]
     },
     "execution_count": 19,
     "metadata": {},
     "output_type": "execute_result"
    }
   ],
   "source": [
    "# multivariate linear regression\n",
    "reg = linear_model.LinearRegression()\n",
    "reg.fit(x_train, y_train)"
   ]
  },
  {
   "cell_type": "code",
   "execution_count": 20,
   "metadata": {},
   "outputs": [
    {
     "data": {
      "text/plain": [
       "array([ 4.08940355e-02,  3.42042471e+01,  3.47605952e+02, -8.01786463e+01,\n",
       "       -2.39746324e+02,  1.28027913e+01, -1.62639143e+02,  2.72811090e+02,\n",
       "       -1.37761200e+02, -3.18360478e+01,  1.89415269e+01, -1.82112266e+01,\n",
       "        1.82112266e+01, -1.46980625e+00,  1.46980625e+00])"
      ]
     },
     "execution_count": 20,
     "metadata": {},
     "output_type": "execute_result"
    }
   ],
   "source": [
    "# nilai gradien m\n",
    "reg.coef_"
   ]
  },
  {
   "cell_type": "code",
   "execution_count": 21,
   "metadata": {},
   "outputs": [
    {
     "data": {
      "text/plain": [
       "-68623.3342738478"
      ]
     },
     "execution_count": 21,
     "metadata": {},
     "output_type": "execute_result"
    }
   ],
   "source": [
    "# nilai intercept b\n",
    "reg.intercept_"
   ]
  },
  {
   "cell_type": "code",
   "execution_count": 22,
   "metadata": {},
   "outputs": [
    {
     "data": {
      "text/plain": [
       "76.20914037350774"
      ]
     },
     "execution_count": 22,
     "metadata": {},
     "output_type": "execute_result"
    }
   ],
   "source": [
    "# score\n",
    "reg.score(x_test, y_test) * 100"
   ]
  },
  {
   "cell_type": "code",
   "execution_count": 26,
   "metadata": {},
   "outputs": [
    {
     "data": {
      "text/plain": [
       "629.292703623476"
      ]
     },
     "execution_count": 26,
     "metadata": {},
     "output_type": "execute_result"
    }
   ],
   "source": [
    "# prediksi: Alphard 5km 2015 bensin otomatis\n",
    "kmth = [5,2015]\n",
    "mobil = [1,0,0,0,0,0,0,0,0]\n",
    "bbm = [1,0]\n",
    "transmisi = [0,1]\n",
    "\n",
    "data = np.array(kmth + mobil + bbm + transmisi)\n",
    "reg.predict([data])[0]"
   ]
  }
 ],
 "metadata": {
  "kernelspec": {
   "display_name": "Python 3",
   "language": "python",
   "name": "python3"
  },
  "language_info": {
   "codemirror_mode": {
    "name": "ipython",
    "version": 3
   },
   "file_extension": ".py",
   "mimetype": "text/x-python",
   "name": "python",
   "nbconvert_exporter": "python",
   "pygments_lexer": "ipython3",
   "version": "3.7.1"
  }
 },
 "nbformat": 4,
 "nbformat_minor": 4
}
